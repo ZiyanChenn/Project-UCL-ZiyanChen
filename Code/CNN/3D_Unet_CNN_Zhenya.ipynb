{
  "cells": [
    {
      "cell_type": "markdown",
      "metadata": {
        "id": "Vhp8qocrP5bR"
      },
      "source": [
        "# **STEP 1) Load Libraries**"
      ]
    },
    {
      "cell_type": "code",
      "execution_count": 1,
      "metadata": {
        "colab": {
          "base_uri": "https://localhost:8080/",
          "height": 35
        },
        "id": "7V-4EgloP4ep",
        "outputId": "5d2c8cd8-d459-4081-a4be-e1f758c01e1b"
      },
      "outputs": [
        {
          "output_type": "execute_result",
          "data": {
            "text/plain": [
              "'2.8.2'"
            ],
            "application/vnd.google.colaboratory.intrinsic+json": {
              "type": "string"
            }
          },
          "metadata": {},
          "execution_count": 1
        }
      ],
      "source": [
        "import tensorflow as tf\n",
        "tf.version.VERSION"
      ]
    },
    {
      "cell_type": "code",
      "execution_count": 2,
      "metadata": {
        "id": "lIUrtgCdQjEe"
      },
      "outputs": [],
      "source": [
        "!pip install -q tfa-nightly"
      ]
    },
    {
      "cell_type": "code",
      "execution_count": 3,
      "metadata": {
        "id": "uP00r3A8Qg-9"
      },
      "outputs": [],
      "source": [
        "import numpy as np\n",
        "import os\n",
        "import time\n",
        "import matplotlib.pyplot as plt\n",
        "from IPython.display import clear_output\n",
        "import cv2\n",
        "import sklearn.model_selection as sk\n",
        "\n",
        "import architecture"
      ]
    },
    {
      "cell_type": "code",
      "execution_count": 4,
      "metadata": {
        "id": "GjPmuj_dQk2J"
      },
      "outputs": [],
      "source": [
        "import tensorflow_addons as tfa"
      ]
    },
    {
      "cell_type": "markdown",
      "metadata": {
        "id": "gZze7kQ5VIS1"
      },
      "source": [
        "# **IMAGE PARAMETERS**"
      ]
    },
    {
      "cell_type": "code",
      "execution_count": 5,
      "metadata": {
        "id": "Fe9yz3WiQmZm"
      },
      "outputs": [],
      "source": [
        "# Parameters of image\n",
        "Nx = 64\n",
        "Ny = 64\n",
        "Nz = 64\n",
        "\n",
        "# dx = 0.1 # cm\n",
        "# dy = 0.1\n",
        "# dz = 0.1"
      ]
    },
    {
      "cell_type": "markdown",
      "metadata": {
        "id": "wjlgRP6rVh4U"
      },
      "source": [
        "# **LOAD IMAGES**"
      ]
    },
    {
      "cell_type": "code",
      "execution_count": 6,
      "metadata": {
        "id": "bcr-aDUcQnwc"
      },
      "outputs": [],
      "source": [
        "def read_image_bin(string,gridsize,extension='bin'):\n",
        "    fid = open('{}.{}'.format(string,extension),'r')\n",
        "    grid = np.fromfile(fid,'float32')\n",
        "    grid = grid.reshape(gridsize)\n",
        "    grid = np.transpose(grid, (2,1,0))\n",
        "    fid.close()\n",
        "    return grid\n",
        "\n",
        "def read_image_img(string,gridsize,extension='img'):\n",
        "    fid = open('{}.{}'.format(string,extension),'r')\n",
        "    grid = np.fromfile(fid,'float32')\n",
        "    grid = grid.reshape(gridsize)\n",
        "    grid = np.transpose(grid, (2,1,0))\n",
        "    fid.close()\n",
        "    return grid"
      ]
    },
    {
      "cell_type": "code",
      "source": [
        "#os.chdir(\"drive/MyDrive/data\") "
      ],
      "metadata": {
        "id": "8EG0tBSRI78j"
      },
      "execution_count": 7,
      "outputs": []
    },
    {
      "cell_type": "code",
      "source": [
        "fileNumber = 500\n",
        "\n",
        "grid_size = [64,64,64]\n",
        "\n",
        "MuMap = read_image_img(\"Phantom1-MuMap\",grid_size)\n",
        "Annihil = read_image_bin(\"anni_1\",grid_size)\n",
        "\n",
        "for num in range(1,fileNumber):\n",
        "\n",
        "    fileNum = str(num+1)\n",
        "\n",
        "    fileName1 = \"anni_\"+fileNum\n",
        "    anni = read_image_bin(fileName1,grid_size)\n",
        "    Annihil = np.concatenate((Annihil, anni))\n",
        "\n",
        "    fileName2 = \"Phantom\"+fileNum+\"-MuMap\"\n",
        "    Mu = read_image_img(fileName2,grid_size)\n",
        "    MuMap = np.concatenate((MuMap,Mu))"
      ],
      "metadata": {
        "id": "BdbNesgJ_7tB"
      },
      "execution_count": 21,
      "outputs": []
    },
    {
      "cell_type": "code",
      "execution_count": 22,
      "metadata": {
        "id": "YQfB7b5fVs6B"
      },
      "outputs": [],
      "source": [
        "Annihil_Rb82 = Annihil.reshape(500,64,64,64)"
      ]
    },
    {
      "cell_type": "code",
      "execution_count": 23,
      "metadata": {
        "id": "SaTe6b8VVv6n"
      },
      "outputs": [],
      "source": [
        "MuMap = MuMap.reshape(500,64,64,64)"
      ]
    },
    {
      "cell_type": "markdown",
      "metadata": {
        "id": "gYpxMRKEVzvH"
      },
      "source": [
        "# **NORMALIZATION OF MUNORM (Global)**"
      ]
    },
    {
      "cell_type": "code",
      "execution_count": 24,
      "metadata": {
        "colab": {
          "base_uri": "https://localhost:8080/"
        },
        "id": "lp3bI2c-V0JO",
        "outputId": "cba5373d-eb9b-4955-b655-9763c3843e17"
      },
      "outputs": [
        {
          "output_type": "stream",
          "name": "stdout",
          "text": [
            "0.17144826\n"
          ]
        }
      ],
      "source": [
        "MAXM = np.max(MuMap)\n",
        "MUN = MuMap/MAXM\n",
        "print(MAXM)"
      ]
    },
    {
      "cell_type": "markdown",
      "metadata": {
        "id": "HMT7EibmV45o"
      },
      "source": [
        "# **Numpy to Tensor**"
      ]
    },
    {
      "cell_type": "code",
      "execution_count": 25,
      "metadata": {
        "id": "Uqlc_36ZWJtP"
      },
      "outputs": [],
      "source": [
        "Annihil_Rb82_tf = tf.convert_to_tensor(Annihil_Rb82, tf.float32)\n",
        "Annihil_Rb82_tf = tf.expand_dims(Annihil_Rb82_tf,axis=-1)   #5-D Tensor with shape [batch, in_planes, in_rows, in_cols, depth].\n",
        "\n",
        "MuMap_tf = tf.convert_to_tensor(MUN, tf.float32)\n",
        "MuMap_tf = tf.expand_dims(MuMap_tf,axis=-1)   #5-D Tensor with shape [batch, in_planes, in_rows, in_cols, depth].\n"
      ]
    },
    {
      "cell_type": "markdown",
      "metadata": {
        "id": "SoosnFyXWRwR"
      },
      "source": [
        "# **IN and OUT**"
      ]
    },
    {
      "cell_type": "code",
      "execution_count": 26,
      "metadata": {
        "id": "_pJME2SDWS5Y"
      },
      "outputs": [],
      "source": [
        "inp_np = MuMap_tf.numpy() \n",
        "out_np = Annihil_Rb82_tf.numpy()"
      ]
    },
    {
      "cell_type": "code",
      "execution_count": 27,
      "metadata": {
        "id": "HHI_DCIlWn3J"
      },
      "outputs": [],
      "source": [
        "x_train, x_val, y_train, y_val = sk.train_test_split(inp_np, out_np, test_size=0.1, shuffle=True)"
      ]
    },
    {
      "cell_type": "code",
      "execution_count": 28,
      "metadata": {
        "colab": {
          "base_uri": "https://localhost:8080/"
        },
        "id": "T-lxjOpOWoh5",
        "outputId": "d7207af8-df93-4bd9-d47d-ec6ff1b9fc2f"
      },
      "outputs": [
        {
          "output_type": "execute_result",
          "data": {
            "text/plain": [
              "TensorShape([450, 64, 64, 64, 1])"
            ]
          },
          "metadata": {},
          "execution_count": 28
        }
      ],
      "source": [
        "x_train_tf = tf.convert_to_tensor(x_train, tf.float32)\n",
        "x_val_tf = tf.convert_to_tensor(x_val, tf.float32)\n",
        "y_train_tf = tf.convert_to_tensor(y_train, tf.float32)\n",
        "y_val_tf = tf.convert_to_tensor(y_val, tf.float32)\n",
        "x_train_tf.shape"
      ]
    },
    {
      "cell_type": "markdown",
      "metadata": {
        "id": "OwqU2kOaWxtO"
      },
      "source": [
        "# **Unet**"
      ]
    },
    {
      "cell_type": "code",
      "execution_count": 29,
      "metadata": {
        "colab": {
          "base_uri": "https://localhost:8080/"
        },
        "id": "hm9w9GeQWzPv",
        "outputId": "250d2e88-a235-4335-a31b-d34079353c7b"
      },
      "outputs": [
        {
          "output_type": "stream",
          "name": "stdout",
          "text": [
            "get_model\n",
            "get_tensors\n",
            "get_input\n",
            "get_encoder\n",
            "get_convolution_layer\n",
            "get_padding\n",
            "get_dropout\n",
            "get_convolution_layer\n",
            "get_padding\n",
            "get_dropout\n",
            "get_downsample_layer\n",
            "get_convolution_layer\n",
            "get_padding\n",
            "get_dropout\n",
            "get_convolution_layer\n",
            "get_padding\n",
            "get_dropout\n",
            "get_convolution_layer\n",
            "get_padding\n",
            "get_dropout\n",
            "get_downsample_layer\n",
            "get_convolution_layer\n",
            "get_padding\n",
            "get_dropout\n",
            "get_convolution_layer\n",
            "get_padding\n",
            "get_dropout\n",
            "get_convolution_layer\n",
            "get_padding\n",
            "get_dropout\n",
            "get_downsample_layer\n",
            "get_convolution_layer\n",
            "get_padding\n",
            "get_dropout\n",
            "get_convolution_layer\n",
            "get_padding\n",
            "get_dropout\n",
            "get_convolution_layer\n",
            "get_padding\n",
            "get_dropout\n",
            "get_downsample_layer\n",
            "get_convolution_layer\n",
            "get_padding\n",
            "get_dropout\n",
            "get_convolution_layer\n",
            "get_padding\n",
            "get_dropout\n",
            "get_convolution_layer\n",
            "get_padding\n",
            "get_dropout\n",
            "get_downsample_layer\n",
            "get_convolution_layer\n",
            "get_padding\n",
            "get_dropout\n",
            "get_latent\n",
            "get_convolution_layer\n",
            "get_padding\n",
            "get_dropout\n",
            "get_convolution_layer\n",
            "get_padding\n",
            "get_dropout\n",
            "get_convolution_layer\n",
            "get_padding\n",
            "get_dropout\n",
            "get_convolution_layer\n",
            "get_padding\n",
            "get_dropout\n",
            "get_decoder\n",
            "get_upsample_layer\n",
            "get_convolution_layer\n",
            "get_padding\n",
            "get_dropout\n",
            "get_concatenate_layer\n",
            "get_convolution_layer\n",
            "get_padding\n",
            "get_dropout\n",
            "get_convolution_layer\n",
            "get_padding\n",
            "get_dropout\n",
            "get_convolution_layer\n",
            "get_padding\n",
            "get_dropout\n",
            "get_upsample_layer\n",
            "get_convolution_layer\n",
            "get_padding\n",
            "get_dropout\n",
            "get_concatenate_layer\n",
            "get_convolution_layer\n",
            "get_padding\n",
            "get_dropout\n",
            "get_convolution_layer\n",
            "get_padding\n",
            "get_dropout\n",
            "get_convolution_layer\n",
            "get_padding\n",
            "get_dropout\n",
            "get_upsample_layer\n",
            "get_convolution_layer\n",
            "get_padding\n",
            "get_dropout\n",
            "get_concatenate_layer\n",
            "get_convolution_layer\n",
            "get_padding\n",
            "get_dropout\n",
            "get_convolution_layer\n",
            "get_padding\n",
            "get_dropout\n",
            "get_convolution_layer\n",
            "get_padding\n",
            "get_dropout\n",
            "get_upsample_layer\n",
            "get_convolution_layer\n",
            "get_padding\n",
            "get_dropout\n",
            "get_concatenate_layer\n",
            "get_convolution_layer\n",
            "get_padding\n",
            "get_dropout\n",
            "get_convolution_layer\n",
            "get_padding\n",
            "get_dropout\n",
            "get_convolution_layer\n",
            "get_padding\n",
            "get_dropout\n",
            "get_upsample_layer\n",
            "get_convolution_layer\n",
            "get_padding\n",
            "get_dropout\n",
            "get_concatenate_layer\n",
            "get_convolution_layer\n",
            "get_padding\n",
            "get_dropout\n",
            "get_convolution_layer\n",
            "get_padding\n",
            "get_dropout\n",
            "get_convolution_layer\n",
            "get_padding\n",
            "get_dropout\n",
            "get_padding\n"
          ]
        }
      ],
      "source": [
        "model = architecture.get_model(input_shape=(x_train_tf.shape[1], x_train_tf.shape[2], x_train_tf.shape[3],x_train_tf.shape[4]))"
      ]
    },
    {
      "cell_type": "markdown",
      "metadata": {
        "id": "lE9nv3AXW5DD"
      },
      "source": [
        "# **Optimizer**"
      ]
    },
    {
      "cell_type": "code",
      "execution_count": 30,
      "metadata": {
        "colab": {
          "base_uri": "https://localhost:8080/"
        },
        "id": "NJ7QbzPzW14i",
        "outputId": "1a572732-9d82-4ff0-aeab-9c81d689c3f9"
      },
      "outputs": [
        {
          "output_type": "stream",
          "name": "stderr",
          "text": [
            "/usr/local/lib/python3.7/dist-packages/tensorflow_addons/optimizers/rectified_adam.py:121: UserWarning: The `lr` argument is deprecated, use `learning_rate` instead.\n",
            "  super().__init__(name, **kwargs)\n"
          ]
        }
      ],
      "source": [
        "opt = tfa.optimizers.RectifiedAdam(lr=1e-3)\n",
        "opt = tfa.optimizers.Lookahead(opt)"
      ]
    },
    {
      "cell_type": "markdown",
      "metadata": {
        "id": "vFjKdYtQXEQl"
      },
      "source": [
        "# **Loss Function**"
      ]
    },
    {
      "cell_type": "code",
      "execution_count": 31,
      "metadata": {
        "id": "5n9lxq1rXBpF"
      },
      "outputs": [],
      "source": [
        "L1 = tf.keras.losses.MeanAbsoluteError(reduction=tf.keras.losses.Reduction.NONE)\n",
        "L2 = tf.keras.losses.MeanSquaredError(reduction=tf.keras.losses.Reduction.NONE)  "
      ]
    },
    {
      "cell_type": "code",
      "execution_count": 32,
      "metadata": {
        "id": "1Yp9i5CxXJzg"
      },
      "outputs": [],
      "source": [
        "def make_my_loss():\n",
        "    def my_loss(y_true, y_pred):\n",
        "        return L2(y_true, y_pred) \n",
        "#        return L2(y_true, y_pred) \n",
        "    return my_loss"
      ]
    },
    {
      "cell_type": "code",
      "execution_count": 33,
      "metadata": {
        "id": "IxS6f4keXNhO"
      },
      "outputs": [],
      "source": [
        "my_loss = make_my_loss()"
      ]
    },
    {
      "cell_type": "code",
      "execution_count": 34,
      "metadata": {
        "id": "XmT4E_kXXPbI"
      },
      "outputs": [],
      "source": [
        "model.compile(optimizer=opt,loss=my_loss)"
      ]
    },
    {
      "cell_type": "code",
      "execution_count": 35,
      "metadata": {
        "colab": {
          "base_uri": "https://localhost:8080/"
        },
        "id": "lKDf4fWcXQl9",
        "outputId": "942deb8a-59d4-4606-cd56-237475f9d9b2"
      },
      "outputs": [
        {
          "output_type": "stream",
          "name": "stdout",
          "text": [
            "Epoch 1/45\n",
            "10/10 [==============================] - 70s 1s/step - loss: 0.4635 - val_loss: 0.5456\n",
            "Epoch 2/45\n",
            "10/10 [==============================] - 11s 1s/step - loss: 0.4536 - val_loss: 0.5363\n",
            "Epoch 3/45\n",
            "10/10 [==============================] - 11s 1s/step - loss: 0.4434 - val_loss: 0.5278\n",
            "Epoch 4/45\n",
            "10/10 [==============================] - 11s 1s/step - loss: 0.4340 - val_loss: 0.5127\n",
            "Epoch 5/45\n",
            "10/10 [==============================] - 11s 1s/step - loss: 0.4232 - val_loss: 0.5034\n",
            "Epoch 6/45\n",
            "10/10 [==============================] - 11s 1s/step - loss: 0.4123 - val_loss: 0.4946\n",
            "Epoch 7/45\n",
            "10/10 [==============================] - 11s 1s/step - loss: 0.4035 - val_loss: 0.4821\n",
            "Epoch 8/45\n",
            "10/10 [==============================] - 11s 1s/step - loss: 0.3956 - val_loss: 0.4771\n",
            "Epoch 9/45\n",
            "10/10 [==============================] - 11s 1s/step - loss: 0.3896 - val_loss: 0.4731\n",
            "Epoch 10/45\n",
            "10/10 [==============================] - 11s 1s/step - loss: 0.3857 - val_loss: 0.4681\n",
            "Epoch 11/45\n",
            "10/10 [==============================] - 11s 1s/step - loss: 0.3821 - val_loss: 0.4658\n",
            "Epoch 12/45\n",
            "10/10 [==============================] - 11s 1s/step - loss: 0.3793 - val_loss: 0.4639\n",
            "Epoch 13/45\n",
            "10/10 [==============================] - 11s 1s/step - loss: 0.3769 - val_loss: 0.4607\n",
            "Epoch 14/45\n",
            "10/10 [==============================] - 11s 1s/step - loss: 0.3747 - val_loss: 0.4594\n",
            "Epoch 15/45\n",
            "10/10 [==============================] - 11s 1s/step - loss: 0.3729 - val_loss: 0.4583\n",
            "Epoch 16/45\n",
            "10/10 [==============================] - 11s 1s/step - loss: 0.3714 - val_loss: 0.4564\n",
            "Epoch 17/45\n",
            "10/10 [==============================] - 11s 1s/step - loss: 0.3698 - val_loss: 0.4560\n",
            "Epoch 18/45\n",
            "10/10 [==============================] - 11s 1s/step - loss: 0.3688 - val_loss: 0.4547\n",
            "Epoch 19/45\n",
            "10/10 [==============================] - 11s 1s/step - loss: 0.3675 - val_loss: 0.4541\n",
            "Epoch 20/45\n",
            "10/10 [==============================] - 11s 1s/step - loss: 0.3668 - val_loss: 0.4533\n",
            "Epoch 21/45\n",
            "10/10 [==============================] - 11s 1s/step - loss: 0.3663 - val_loss: 0.4529\n",
            "Epoch 22/45\n",
            "10/10 [==============================] - 11s 1s/step - loss: 0.3657 - val_loss: 0.4529\n",
            "Epoch 23/45\n",
            "10/10 [==============================] - 11s 1s/step - loss: 0.3648 - val_loss: 0.4523\n",
            "Epoch 24/45\n",
            "10/10 [==============================] - 11s 1s/step - loss: 0.3644 - val_loss: 0.4512\n",
            "Epoch 25/45\n",
            "10/10 [==============================] - 11s 1s/step - loss: 0.3638 - val_loss: 0.4506\n",
            "Epoch 26/45\n",
            "10/10 [==============================] - 11s 1s/step - loss: 0.3631 - val_loss: 0.4509\n",
            "Epoch 27/45\n",
            "10/10 [==============================] - 11s 1s/step - loss: 0.3628 - val_loss: 0.4502\n",
            "Epoch 28/45\n",
            "10/10 [==============================] - 11s 1s/step - loss: 0.3624 - val_loss: 0.4500\n",
            "Epoch 29/45\n",
            "10/10 [==============================] - 11s 1s/step - loss: 0.3621 - val_loss: 0.4495\n",
            "Epoch 30/45\n",
            "10/10 [==============================] - 11s 1s/step - loss: 0.3617 - val_loss: 0.4490\n",
            "Epoch 31/45\n",
            "10/10 [==============================] - 11s 1s/step - loss: 0.3613 - val_loss: 0.4494\n",
            "Epoch 32/45\n",
            "10/10 [==============================] - 11s 1s/step - loss: 0.3612 - val_loss: 0.4486\n",
            "Epoch 33/45\n",
            "10/10 [==============================] - 11s 1s/step - loss: 0.3611 - val_loss: 0.4485\n",
            "Epoch 34/45\n",
            "10/10 [==============================] - 11s 1s/step - loss: 0.3605 - val_loss: 0.4478\n",
            "Epoch 35/45\n",
            "10/10 [==============================] - 11s 1s/step - loss: 0.3600 - val_loss: 0.4474\n",
            "Epoch 36/45\n",
            "10/10 [==============================] - 11s 1s/step - loss: 0.3598 - val_loss: 0.4475\n",
            "Epoch 37/45\n",
            "10/10 [==============================] - 11s 1s/step - loss: 0.3594 - val_loss: 0.4473\n",
            "Epoch 38/45\n",
            "10/10 [==============================] - 11s 1s/step - loss: 0.3592 - val_loss: 0.4476\n",
            "Epoch 39/45\n",
            "10/10 [==============================] - 11s 1s/step - loss: 0.3593 - val_loss: 0.4468\n",
            "Epoch 40/45\n",
            "10/10 [==============================] - 11s 1s/step - loss: 0.3587 - val_loss: 0.4458\n",
            "Epoch 41/45\n",
            "10/10 [==============================] - 11s 1s/step - loss: 0.3583 - val_loss: 0.4461\n",
            "Epoch 42/45\n",
            "10/10 [==============================] - 11s 1s/step - loss: 0.3580 - val_loss: 0.4455\n",
            "Epoch 43/45\n",
            "10/10 [==============================] - 11s 1s/step - loss: 0.3574 - val_loss: 0.4457\n",
            "Epoch 44/45\n",
            "10/10 [==============================] - 11s 1s/step - loss: 0.3571 - val_loss: 0.4458\n",
            "Epoch 45/45\n",
            "10/10 [==============================] - 11s 1s/step - loss: 0.3569 - val_loss: 0.4459\n"
          ]
        }
      ],
      "source": [
        "history = model.fit(x = x_train_tf,y = y_train_tf ,steps_per_epoch=10, epochs=45, validation_data=(x_val_tf, y_val_tf)) # steps_per_epoch * epochs <= batch(test)"
      ]
    },
    {
      "cell_type": "code",
      "execution_count": 37,
      "metadata": {
        "colab": {
          "base_uri": "https://localhost:8080/",
          "height": 324
        },
        "id": "9VaSDLdIXVgi",
        "outputId": "ec12dd4a-0308-4f7e-9d53-2201a521a7b8"
      },
      "outputs": [
        {
          "output_type": "display_data",
          "data": {
            "text/plain": [
              "<Figure size 1440x360 with 1 Axes>"
            ],
            "image/png": "[encoded data removed]"
          },
          "metadata": {
            "needs_background": "light"
          }
        }
      ],
      "source": [
        "fig, ax = plt.subplots(figsize=(20,5))\n",
        "\n",
        "loss = np.array(history.history['loss'])\n",
        "val_loss = np.array(history.history['val_loss'])\n",
        "\n",
        "ax.plot(loss, 'orange', label='Training Loss')\n",
        "ax.plot(val_loss, 'green', label='Validation loss')\n",
        "ax.set_ylim([0.3, 0.6])\n",
        "ax.legend()\n",
        "fig.show()"
      ]
    },
    {
      "cell_type": "markdown",
      "metadata": {
        "id": "8S6VUCZJXoV9"
      },
      "source": [
        "\n",
        "# **SAVE LOSS HISTORY**"
      ]
    },
    {
      "cell_type": "code",
      "execution_count": 38,
      "metadata": {
        "id": "wqmqH4ORXmSt"
      },
      "outputs": [],
      "source": [
        "loss = np.array(history.history['loss'])\n",
        "var_loss = np.array(history.history['val_loss'])\n",
        "loss_info = np.transpose(100*np.array([loss,var_loss]))\n",
        "np.savetxt((\"LOSS_%d.csv\" % 0), loss_info, fmt='%.3f', delimiter='\\t')"
      ]
    },
    {
      "cell_type": "markdown",
      "metadata": {
        "id": "i4rrKO3FX4_f"
      },
      "source": [
        "# **RESTORING MODEL**\n"
      ]
    },
    {
      "cell_type": "code",
      "source": [
        "opt = tfa.optimizers.RectifiedAdam(learning_rate=1e-3)\n",
        "opt = tfa.optimizers.Lookahead(opt)\n",
        "model.compile(optimizer=opt,loss='MeanAbsoluteError') "
      ],
      "metadata": {
        "id": "mzoV_y2ptSnA"
      },
      "execution_count": 39,
      "outputs": []
    },
    {
      "cell_type": "code",
      "source": [
        "x_val.shape"
      ],
      "metadata": {
        "colab": {
          "base_uri": "https://localhost:8080/"
        },
        "id": "XQiBYq3svYFW",
        "outputId": "8b7d4cab-0ac2-4534-86d1-f07440c216cf"
      },
      "execution_count": 40,
      "outputs": [
        {
          "output_type": "execute_result",
          "data": {
            "text/plain": [
              "(50, 64, 64, 64, 1)"
            ]
          },
          "metadata": {},
          "execution_count": 40
        }
      ]
    },
    {
      "cell_type": "code",
      "execution_count": 47,
      "metadata": {
        "id": "tPZxKpWyX6V_"
      },
      "outputs": [],
      "source": [
        "img_index = 5\n",
        "\n",
        "test = np.expand_dims(x_val[img_index,:,:,:,:],axis=0)\n",
        "estim = model.predict(test)\n",
        "\n",
        "MuMap_img = np.squeeze(test)\n",
        "estim_img = np.squeeze(estim)\n",
        "Annihil_img = np.squeeze(y_val[img_index])"
      ]
    },
    {
      "cell_type": "code",
      "source": [
        "def save_image_bin(grid,string,extension='bin'):\n",
        "    fid = open('{}.{}'.format(string,extension),'w')\n",
        "    gridfile = np.transpose(grid, (2,1,0))\n",
        "    gridfile=gridfile.flatten()\n",
        "    gridfile = np.float32(gridfile)\n",
        "    gridfile.tofile(fid)\n",
        "    fid.close()"
      ],
      "metadata": {
        "id": "v9lp3aF5xe40"
      },
      "execution_count": 48,
      "outputs": []
    },
    {
      "cell_type": "code",
      "source": [
        "save_image_bin(MuMap_img,\"MuMap_test\")\n",
        "save_image_bin(estim_img,\"estim_test\")\n",
        "save_image_bin(Annihil_img,\"Anni_test\")"
      ],
      "metadata": {
        "id": "oDq3bAbLwCsk"
      },
      "execution_count": 49,
      "outputs": []
    }
  ],
  "metadata": {
    "accelerator": "GPU",
    "colab": {
      "collapsed_sections": [],
      "machine_shape": "hm",
      "name": "3D_Unet_CNN.ipynb",
      "provenance": []
    },
    "gpuClass": "standard",
    "kernelspec": {
      "display_name": "Python 3",
      "name": "python3"
    },
    "language_info": {
      "name": "python"
    }
  },
  "nbformat": 4,
  "nbformat_minor": 0
}